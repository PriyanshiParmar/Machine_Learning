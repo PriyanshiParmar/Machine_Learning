{
  "nbformat": 4,
  "nbformat_minor": 0,
  "metadata": {
    "colab": {
      "provenance": []
    },
    "kernelspec": {
      "name": "python3",
      "display_name": "Python 3"
    },
    "language_info": {
      "name": "python"
    }
  },
  "cells": [
    {
      "cell_type": "code",
      "execution_count": null,
      "metadata": {
        "id": "SkyHl6QOtKRI"
      },
      "outputs": [],
      "source": [
        "# Imports\n",
        "from sklearn.datasets import make_blobs\n",
        "X, _ = make_blobs(n_samples=100, centers=3, n_features=2, cluster_std=0.2, random_state=0)"
      ]
    },
    {
      "cell_type": "code",
      "source": [
        "# Scatter plot of the data points\n",
        "import matplotlib.pyplot as plt\n",
        "%matplotlib inline"
      ],
      "metadata": {
        "id": "C288RXjmtgaj"
      },
      "execution_count": null,
      "outputs": []
    },
    {
      "cell_type": "code",
      "source": [
        "# Using scikit-learn to perform K-Means clustering\n",
        "from sklearn.cluster import KMeans\n",
        "# Specify the number of clusters (3) and fit the data X\n",
        "\n",
        "kmeans = KMeans(n_clusters=3)\n",
        "kmeans.fit(X)"
      ],
      "metadata": {
        "colab": {
          "base_uri": "https://localhost:8080/"
        },
        "id": "yWCYycUct8vz",
        "outputId": "c2a9c440-6cd0-43ea-88ac-9f4e714b90dc"
      },
      "execution_count": null,
      "outputs": [
        {
          "output_type": "execute_result",
          "data": {
            "text/plain": [
              "KMeans(n_clusters=3)"
            ]
          },
          "metadata": {},
          "execution_count": 3
        }
      ]
    },
    {
      "cell_type": "code",
      "source": [
        "import numpy as np\n",
        "\n",
        "labels = kmeans.predict(X)\n",
        "centroids  = kmeans.cluster_centers_  #means of shape\n",
        "centroid_labels = [centroids[i] for i in labels]\n",
        "# centroid_labels = [*set(centroid_labels)]\n",
        "np.unique(centroid_labels, axis= 0)"
      ],
      "metadata": {
        "colab": {
          "base_uri": "https://localhost:8080/"
        },
        "id": "IY3DhZTSzfav",
        "outputId": "d3f33365-6665-4dfc-fcb9-ccce5be38c6b"
      },
      "execution_count": null,
      "outputs": [
        {
          "output_type": "execute_result",
          "data": {
            "text/plain": [
              "array([[-1.538563  ,  2.91165191],\n",
              "       [ 0.95164831,  4.28882085],\n",
              "       [ 2.0720792 ,  0.98848385]])"
            ]
          },
          "metadata": {},
          "execution_count": 9
        }
      ]
    },
    {
      "cell_type": "code",
      "source": [
        "# get centroids\n",
        "centroids = kmeans.cluster_centers_\n",
        "cen_x = [i[0] for i in centroids] \n",
        "cen_y = [i[1] for i in centroids]\n",
        "## add to df\n",
        "df = X\n",
        "df['cen_x'] = df.cluster.map({0:cen_x[0], 1:cen_x[1], 2:cen_x[2]})\n",
        "df['cen_y'] = df.cluster.map({0:cen_y[0], 1:cen_y[1], 2:cen_y[2]})\n",
        "# define and map colors\n",
        "colors = ['#DF2020', '#81DF20', '#2095DF']\n",
        "df['c'] = df.cluster.map({0:colors[0], 1:colors[1], 2:colors[2]})\n",
        "\n",
        "import matplotlib.pyplot as plt\n",
        "plt.scatter(df.Attack, df.Defense, c=df.c, alpha = 0.6, s=10)"
      ],
      "metadata": {
        "id": "XrpdRYlBzkbH"
      },
      "execution_count": null,
      "outputs": []
    },
    {
      "cell_type": "markdown",
      "source": [
        "Exercise\n"
      ],
      "metadata": {
        "id": "-V-t7mmmF-Cm"
      }
    },
    {
      "cell_type": "markdown",
      "source": [
        "4. Use the k-means algorithm in python to cluster the following 8 examples into 3 clusters:\n",
        "A1=(2,10), A2=(2,5), A3=(8,4), A4=(5,8), A5=(7,5), A6=(6,4), A7=(1,2), A8=(4,9).\n",
        "\n",
        "(a) Suppose that the centers of each cluster are A1, A4 and A7.\n",
        "\n",
        "  i. The new clusters (i.e. the examples belonging to each cluster)(mention the appropriate attribute used to identify the clusters in sklearn)\n",
        "\n",
        "  ii. The centers of the new clusters (mention the appropriate attribute used to identify the cluster centers in sklearn)"
      ],
      "metadata": {
        "id": "a8P3JcARGAYa"
      }
    },
    {
      "cell_type": "code",
      "source": [
        "import matplotlib.pyplot as plt\n",
        "import numpy as np\n",
        "from sklearn.cluster import KMeans\n",
        "\n",
        "X = np.array([[2,10],[2,5],[8,4],[5,8],[7,5],[6,4],[1,2],[4,9]])\n",
        "# plt.scatter(X[:,0], X[:,1])\n",
        "centroid = np.array([[2,10],[5,8],[1,2]])\n",
        "\n",
        "# 1st iteration\n",
        "kmeans = KMeans(n_clusters=3, init=centroid, max_iter=1).fit(X)\n",
        "print(\"cluster center for 1st iteration:\\n\", kmeans.cluster_centers_)\n",
        "\n",
        "c1 = kmeans.cluster_centers_\n",
        "plt.scatter(X[:,0], X[:,1])\n",
        "plt.scatter(c1[:,0], c1[:,1])\n"
      ],
      "metadata": {
        "colab": {
          "base_uri": "https://localhost:8080/",
          "height": 447
        },
        "id": "-uWxVIlIF4PI",
        "outputId": "c323f98a-d4c6-4379-ecd9-bac1315cc6ac"
      },
      "execution_count": 1,
      "outputs": [
        {
          "output_type": "stream",
          "name": "stdout",
          "text": [
            "cluster center for 1st iteration:\n",
            " [[ 2.  10. ]\n",
            " [ 6.   6. ]\n",
            " [ 1.5  3.5]]\n"
          ]
        },
        {
          "output_type": "stream",
          "name": "stderr",
          "text": [
            "/usr/local/lib/python3.9/dist-packages/sklearn/cluster/_kmeans.py:870: FutureWarning: The default value of `n_init` will change from 10 to 'auto' in 1.4. Set the value of `n_init` explicitly to suppress the warning\n",
            "  warnings.warn(\n",
            "/usr/local/lib/python3.9/dist-packages/sklearn/cluster/_kmeans.py:1362: RuntimeWarning: Explicit initial center position passed: performing only one init in KMeans instead of n_init=10.\n",
            "  super()._check_params_vs_input(X, default_n_init=10)\n"
          ]
        },
        {
          "output_type": "execute_result",
          "data": {
            "text/plain": [
              "<matplotlib.collections.PathCollection at 0x7fd6feef3160>"
            ]
          },
          "metadata": {},
          "execution_count": 1
        },
        {
          "output_type": "display_data",
          "data": {
            "text/plain": [
              "<Figure size 432x288 with 1 Axes>"
            ],
            "image/png": "[encoded data removed]"
          },
          "metadata": {
            "needs_background": "light"
          }
        }
      ]
    },
    {
      "cell_type": "code",
      "source": [
        "#2nd iteration\n",
        "kmeans = KMeans(n_clusters=3, init=c1, max_iter=1).fit(X)\n",
        "print(\"\\ncluster center 2nd iteration:\\n\", kmeans.cluster_centers_)\n",
        "\n",
        "c2 = kmeans.cluster_centers_\n",
        "plt.scatter(X[:,0], X[:,1])\n",
        "plt.scatter(c2[:,0], c2[:,1])"
      ],
      "metadata": {
        "colab": {
          "base_uri": "https://localhost:8080/",
          "height": 465
        },
        "id": "E2r7ZRudGxdK",
        "outputId": "74f8b2ff-7e0c-4315-a879-86f082275a69"
      },
      "execution_count": 2,
      "outputs": [
        {
          "output_type": "stream",
          "name": "stdout",
          "text": [
            "\n",
            "cluster center 2nd iteration:\n",
            " [[3.   9.5 ]\n",
            " [6.5  5.25]\n",
            " [1.5  3.5 ]]\n"
          ]
        },
        {
          "output_type": "stream",
          "name": "stderr",
          "text": [
            "/usr/local/lib/python3.9/dist-packages/sklearn/cluster/_kmeans.py:870: FutureWarning: The default value of `n_init` will change from 10 to 'auto' in 1.4. Set the value of `n_init` explicitly to suppress the warning\n",
            "  warnings.warn(\n",
            "/usr/local/lib/python3.9/dist-packages/sklearn/cluster/_kmeans.py:1362: RuntimeWarning: Explicit initial center position passed: performing only one init in KMeans instead of n_init=10.\n",
            "  super()._check_params_vs_input(X, default_n_init=10)\n"
          ]
        },
        {
          "output_type": "execute_result",
          "data": {
            "text/plain": [
              "<matplotlib.collections.PathCollection at 0x7fd6fa52aee0>"
            ]
          },
          "metadata": {},
          "execution_count": 2
        },
        {
          "output_type": "display_data",
          "data": {
            "text/plain": [
              "<Figure size 432x288 with 1 Axes>"
            ],
            "image/png": "[encoded data removed]"
          },
          "metadata": {
            "needs_background": "light"
          }
        }
      ]
    },
    {
      "cell_type": "code",
      "source": [
        "#3rd iteration\n",
        "kmeans = KMeans(n_clusters=3, init=c2, max_iter=1).fit(X)\n",
        "print(\"\\ncluster center 3rd iteration:\\n\", kmeans.cluster_centers_)\n",
        "c3 = kmeans.cluster_centers_\n",
        "plt.scatter(X[:,0], X[:,1])\n",
        "plt.scatter(c3[:,0], c3[:,1])"
      ],
      "metadata": {
        "id": "VbPJyGSkG1AE",
        "outputId": "b0c0433f-96c0-4720-ecfc-9f88d7adbffa",
        "colab": {
          "base_uri": "https://localhost:8080/",
          "height": 465
        }
      },
      "execution_count": 3,
      "outputs": [
        {
          "output_type": "stream",
          "name": "stdout",
          "text": [
            "\n",
            "cluster center 3rd iteration:\n",
            " [[3.66666667 9.        ]\n",
            " [7.         4.33333333]\n",
            " [1.5        3.5       ]]\n"
          ]
        },
        {
          "output_type": "stream",
          "name": "stderr",
          "text": [
            "/usr/local/lib/python3.9/dist-packages/sklearn/cluster/_kmeans.py:870: FutureWarning: The default value of `n_init` will change from 10 to 'auto' in 1.4. Set the value of `n_init` explicitly to suppress the warning\n",
            "  warnings.warn(\n",
            "/usr/local/lib/python3.9/dist-packages/sklearn/cluster/_kmeans.py:1362: RuntimeWarning: Explicit initial center position passed: performing only one init in KMeans instead of n_init=10.\n",
            "  super()._check_params_vs_input(X, default_n_init=10)\n"
          ]
        },
        {
          "output_type": "execute_result",
          "data": {
            "text/plain": [
              "<matplotlib.collections.PathCollection at 0x7fd6fa446b20>"
            ]
          },
          "metadata": {},
          "execution_count": 3
        },
        {
          "output_type": "display_data",
          "data": {
            "text/plain": [
              "<Figure size 432x288 with 1 Axes>"
            ],
            "image/png": "[encoded data removed]"
          },
          "metadata": {
            "needs_background": "light"
          }
        }
      ]
    }
  ]
}